{
 "metadata": {
  "css": [
   ""
  ],
  "name": "",
  "signature": "sha256:0beafdc5fbb7b20650ca2095b884dd2706686f845696b515b6e2000a25a44072"
 },
 "nbformat": 3,
 "nbformat_minor": 0,
 "worksheets": [
  {
   "cells": [
    {
     "cell_type": "markdown",
     "metadata": {},
     "source": [
      "#DataFrames\n",
      "\n",
      "In this unit, we will learn about a way of organizing data into **DataFrames**.\n",
      "\n",
      "By the end of this video, you should be able to:\n",
      "\n",
      "* create a DataFrame\n",
      "\n",
      "* sort data in a DataFrame\n",
      "\n",
      "* select data from a DataFrame\n",
      "\n",
      "* plot data in a DataFrame"
     ]
    },
    {
     "cell_type": "markdown",
     "metadata": {},
     "source": [
      "To set things up, we need some of the usual modules along with a new one called **pandas** which we import under the *pd* name.  "
     ]
    },
    {
     "cell_type": "code",
     "collapsed": false,
     "input": [
      "#Helper code we need to get started\n",
      "%matplotlib inline\n",
      "import numpy as np\n",
      "import matplotlib.pyplot as plt\n",
      "import pandas as pd"
     ],
     "language": "python",
     "metadata": {},
     "outputs": [],
     "prompt_number": 46
    },
    {
     "cell_type": "markdown",
     "metadata": {},
     "source": [
      "So what is a **DataFrame**?  We'll answer this by actually creating one and then explaining a bit more why they are useful.  There are many detailed descriptions of using **Pandas** on the Internet.  In particular, it's documentation is here: http://pandas.pydata.org/pandas-docs/stable/index.html\n",
      "\n",
      "This will be a very brief tour, but should give you a sense of how this toolkit can help you organize your data and analyze it in a very efficient manner.  Some of the notation is new, but because it's easy to play in python, you should be able to get the hang of it!"
     ]
    },
    {
     "cell_type": "code",
     "collapsed": false,
     "input": [],
     "language": "python",
     "metadata": {},
     "outputs": [],
     "prompt_number": 0
    },
    {
     "cell_type": "markdown",
     "metadata": {},
     "source": [
      "Already we see that when a DataFrame variable is printed, it is formatted nicely, as you might find in a database or statistics program.  Let's see what else we can easily do with a DataFrame.  One thing to keep in mind is that a DataFrame is a python object, with methods that are associated with the DataFrame object type.  So we can call a method, like *describe()* using the object.method() syntax:"
     ]
    },
    {
     "cell_type": "code",
     "collapsed": false,
     "input": [],
     "language": "python",
     "metadata": {},
     "outputs": [],
     "prompt_number": 0
    },
    {
     "cell_type": "markdown",
     "metadata": {},
     "source": [
      "Selecting from a DataFrame is also easy, but uses a slightly unusual syntax.  What if we only cared about the float column?"
     ]
    },
    {
     "cell_type": "code",
     "collapsed": false,
     "input": [],
     "language": "python",
     "metadata": {},
     "outputs": [],
     "prompt_number": 0
    },
    {
     "cell_type": "markdown",
     "metadata": {},
     "source": [
      "And how about directly accessing mathematical functions, such as mean or max?"
     ]
    },
    {
     "cell_type": "code",
     "collapsed": false,
     "input": [],
     "language": "python",
     "metadata": {},
     "outputs": [],
     "prompt_number": 0
    },
    {
     "cell_type": "markdown",
     "metadata": {},
     "source": [
      "When analyzing real data, we often want to sort the data, and look at aggregate statistics.  DataFrames make this very easy:"
     ]
    },
    {
     "cell_type": "code",
     "collapsed": false,
     "input": [],
     "language": "python",
     "metadata": {},
     "outputs": [],
     "prompt_number": 0
    },
    {
     "cell_type": "markdown",
     "metadata": {},
     "source": [
      "You can think of each row in the DataFrame as a *case* or a *trial*.  Often we want to exclude all the data from a given trial if some criteria is met.  First, let's add a new column to the data:"
     ]
    },
    {
     "cell_type": "code",
     "collapsed": false,
     "input": [],
     "language": "python",
     "metadata": {},
     "outputs": [],
     "prompt_number": 0
    },
    {
     "cell_type": "markdown",
     "metadata": {},
     "source": [
      "OK, now let's say we only want to analyze the \"good quality\" trials:"
     ]
    },
    {
     "cell_type": "code",
     "collapsed": false,
     "input": [],
     "language": "python",
     "metadata": {},
     "outputs": [],
     "prompt_number": 0
    },
    {
     "cell_type": "markdown",
     "metadata": {},
     "source": [
      "It's often useful to create a new column from existing ones.  This is also easy using DataFrames:"
     ]
    },
    {
     "cell_type": "code",
     "collapsed": false,
     "input": [],
     "language": "python",
     "metadata": {},
     "outputs": [],
     "prompt_number": 0
    },
    {
     "cell_type": "markdown",
     "metadata": {},
     "source": [
      "Changing existing columns is also very easy.  What is we wanted to make the strings in the gender column uppercase and use only the first letter?  For this, we can access the whole list of string values from a column and apply a function to all of the values by accessing the *str* attribute."
     ]
    },
    {
     "cell_type": "code",
     "collapsed": false,
     "input": [],
     "language": "python",
     "metadata": {},
     "outputs": [],
     "prompt_number": 0
    },
    {
     "cell_type": "markdown",
     "metadata": {},
     "source": [
      "Tables are fine, but often we would prefer a plot.  Pandas has support for these too:"
     ]
    },
    {
     "cell_type": "code",
     "collapsed": false,
     "input": [],
     "language": "python",
     "metadata": {},
     "outputs": [],
     "prompt_number": 0
    },
    {
     "cell_type": "code",
     "collapsed": false,
     "input": [],
     "language": "python",
     "metadata": {},
     "outputs": []
    }
   ],
   "metadata": {}
  }
 ]
}